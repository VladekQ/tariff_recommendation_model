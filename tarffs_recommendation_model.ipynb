{
 "cells": [
  {
   "cell_type": "markdown",
   "metadata": {},
   "source": [
    "# Рекомендация тарифов"
   ]
  },
  {
   "cell_type": "markdown",
   "metadata": {},
   "source": [
    "Оператор мобильной связи «Мегалайн» выяснил: многие клиенты пользуются архивными тарифами. Они хотят построить систему, способную проанализировать поведение клиентов и предложить пользователям новый тариф: «Смарт» или «Ультра».\n",
    "\n",
    "В распоряжении данные о поведении клиентов, которые уже перешли на эти тарифы (из проекта курса «Статистический анализ данных»). Нужно построить модель для задачи классификации, которая выберет подходящий тариф.\n",
    "\n",
    "Построим модель с максимально большим значением <b>*accuracy*</b>. Чтобы модель показывала себя успешно, нужно довести долю правильных ответов по крайней мере до 0.75. Проверим <b>*accuracy*</b> на тестовой выборке."
   ]
  },
  {
   "cell_type": "markdown",
   "metadata": {},
   "source": [
    "# Описание данных"
   ]
  },
  {
   "cell_type": "markdown",
   "metadata": {},
   "source": [
    "Каждый объект в наборе данных — это информация о поведении одного пользователя за месяц. Известно:\n",
    "\n",
    "    - сalls — количество звонков;\n",
    "    - minutes — суммарная длительность звонков в минутах;\n",
    "    - messages — количество sms-сообщений;\n",
    "    - mb_used — израсходованный интернет-трафик в Мб;\n",
    "    - is_ultra — каким тарифом пользовался в течение месяца («Ультра» — 1, «Смарт» — 0)."
   ]
  },
  {
   "cell_type": "markdown",
   "metadata": {},
   "source": [
    "## Загрузка и изучение данных"
   ]
  },
  {
   "cell_type": "code",
   "execution_count": 1,
   "metadata": {},
   "outputs": [],
   "source": [
    "import pandas as pd\n",
    "import seaborn as sns\n",
    "from sklearn.model_selection import train_test_split\n",
    "from sklearn.metrics import accuracy_score\n",
    "from sklearn.tree import DecisionTreeClassifier\n",
    "from sklearn.ensemble import RandomForestClassifier\n",
    "from sklearn.linear_model import LogisticRegression\n",
    "from sklearn.linear_model import LinearRegression\n",
    "import warnings\n",
    "warnings.filterwarnings('ignore')\n",
    "\n",
    "users = pd.read_csv('users_behavior.csv')"
   ]
  },
  {
   "cell_type": "code",
   "execution_count": 2,
   "metadata": {},
   "outputs": [
    {
     "name": "stdout",
     "output_type": "stream",
     "text": [
      "<class 'pandas.core.frame.DataFrame'>\n",
      "RangeIndex: 3214 entries, 0 to 3213\n",
      "Data columns (total 5 columns):\n",
      " #   Column    Non-Null Count  Dtype  \n",
      "---  ------    --------------  -----  \n",
      " 0   calls     3214 non-null   float64\n",
      " 1   minutes   3214 non-null   float64\n",
      " 2   messages  3214 non-null   float64\n",
      " 3   mb_used   3214 non-null   float64\n",
      " 4   is_ultra  3214 non-null   int64  \n",
      "dtypes: float64(4), int64(1)\n",
      "memory usage: 125.7 KB\n"
     ]
    }
   ],
   "source": [
    "users.info()"
   ]
  },
  {
   "cell_type": "markdown",
   "metadata": {},
   "source": [
    "Пропущенных значений нет."
   ]
  },
  {
   "cell_type": "code",
   "execution_count": 3,
   "metadata": {},
   "outputs": [
    {
     "data": {
      "text/html": [
       "<div>\n",
       "<style scoped>\n",
       "    .dataframe tbody tr th:only-of-type {\n",
       "        vertical-align: middle;\n",
       "    }\n",
       "\n",
       "    .dataframe tbody tr th {\n",
       "        vertical-align: top;\n",
       "    }\n",
       "\n",
       "    .dataframe thead th {\n",
       "        text-align: right;\n",
       "    }\n",
       "</style>\n",
       "<table border=\"1\" class=\"dataframe\">\n",
       "  <thead>\n",
       "    <tr style=\"text-align: right;\">\n",
       "      <th></th>\n",
       "      <th>calls</th>\n",
       "      <th>minutes</th>\n",
       "      <th>messages</th>\n",
       "      <th>mb_used</th>\n",
       "      <th>is_ultra</th>\n",
       "    </tr>\n",
       "  </thead>\n",
       "  <tbody>\n",
       "    <tr>\n",
       "      <th>count</th>\n",
       "      <td>3214.000000</td>\n",
       "      <td>3214.000000</td>\n",
       "      <td>3214.000000</td>\n",
       "      <td>3214.000000</td>\n",
       "      <td>3214.000000</td>\n",
       "    </tr>\n",
       "    <tr>\n",
       "      <th>mean</th>\n",
       "      <td>63.038892</td>\n",
       "      <td>438.208787</td>\n",
       "      <td>38.281269</td>\n",
       "      <td>17207.673836</td>\n",
       "      <td>0.306472</td>\n",
       "    </tr>\n",
       "    <tr>\n",
       "      <th>std</th>\n",
       "      <td>33.236368</td>\n",
       "      <td>234.569872</td>\n",
       "      <td>36.148326</td>\n",
       "      <td>7570.968246</td>\n",
       "      <td>0.461100</td>\n",
       "    </tr>\n",
       "    <tr>\n",
       "      <th>min</th>\n",
       "      <td>0.000000</td>\n",
       "      <td>0.000000</td>\n",
       "      <td>0.000000</td>\n",
       "      <td>0.000000</td>\n",
       "      <td>0.000000</td>\n",
       "    </tr>\n",
       "    <tr>\n",
       "      <th>25%</th>\n",
       "      <td>40.000000</td>\n",
       "      <td>274.575000</td>\n",
       "      <td>9.000000</td>\n",
       "      <td>12491.902500</td>\n",
       "      <td>0.000000</td>\n",
       "    </tr>\n",
       "    <tr>\n",
       "      <th>50%</th>\n",
       "      <td>62.000000</td>\n",
       "      <td>430.600000</td>\n",
       "      <td>30.000000</td>\n",
       "      <td>16943.235000</td>\n",
       "      <td>0.000000</td>\n",
       "    </tr>\n",
       "    <tr>\n",
       "      <th>75%</th>\n",
       "      <td>82.000000</td>\n",
       "      <td>571.927500</td>\n",
       "      <td>57.000000</td>\n",
       "      <td>21424.700000</td>\n",
       "      <td>1.000000</td>\n",
       "    </tr>\n",
       "    <tr>\n",
       "      <th>max</th>\n",
       "      <td>244.000000</td>\n",
       "      <td>1632.060000</td>\n",
       "      <td>224.000000</td>\n",
       "      <td>49745.730000</td>\n",
       "      <td>1.000000</td>\n",
       "    </tr>\n",
       "  </tbody>\n",
       "</table>\n",
       "</div>"
      ],
      "text/plain": [
       "             calls      minutes     messages       mb_used     is_ultra\n",
       "count  3214.000000  3214.000000  3214.000000   3214.000000  3214.000000\n",
       "mean     63.038892   438.208787    38.281269  17207.673836     0.306472\n",
       "std      33.236368   234.569872    36.148326   7570.968246     0.461100\n",
       "min       0.000000     0.000000     0.000000      0.000000     0.000000\n",
       "25%      40.000000   274.575000     9.000000  12491.902500     0.000000\n",
       "50%      62.000000   430.600000    30.000000  16943.235000     0.000000\n",
       "75%      82.000000   571.927500    57.000000  21424.700000     1.000000\n",
       "max     244.000000  1632.060000   224.000000  49745.730000     1.000000"
      ]
     },
     "execution_count": 3,
     "metadata": {},
     "output_type": "execute_result"
    }
   ],
   "source": [
    "users.describe()"
   ]
  },
  {
   "cell_type": "markdown",
   "metadata": {},
   "source": [
    "В данных есть пользователи, которые не пользуются, например, звонками, но пользуются остальными услугами, или не пользуются интернетом, но пользуются звонками и т.д.\n",
    "\n",
    "Пользователей, которые не пользовались услугами вовсе, нет."
   ]
  },
  {
   "cell_type": "code",
   "execution_count": 4,
   "metadata": {},
   "outputs": [
    {
     "data": {
      "text/html": [
       "<div>\n",
       "<style scoped>\n",
       "    .dataframe tbody tr th:only-of-type {\n",
       "        vertical-align: middle;\n",
       "    }\n",
       "\n",
       "    .dataframe tbody tr th {\n",
       "        vertical-align: top;\n",
       "    }\n",
       "\n",
       "    .dataframe thead th {\n",
       "        text-align: right;\n",
       "    }\n",
       "</style>\n",
       "<table border=\"1\" class=\"dataframe\">\n",
       "  <thead>\n",
       "    <tr style=\"text-align: right;\">\n",
       "      <th></th>\n",
       "      <th>calls</th>\n",
       "      <th>minutes</th>\n",
       "      <th>messages</th>\n",
       "      <th>mb_used</th>\n",
       "      <th>is_ultra</th>\n",
       "    </tr>\n",
       "  </thead>\n",
       "  <tbody>\n",
       "  </tbody>\n",
       "</table>\n",
       "</div>"
      ],
      "text/plain": [
       "Empty DataFrame\n",
       "Columns: [calls, minutes, messages, mb_used, is_ultra]\n",
       "Index: []"
      ]
     },
     "execution_count": 4,
     "metadata": {},
     "output_type": "execute_result"
    }
   ],
   "source": [
    "users.query('calls == 0 and minutes == 0 and messages == 0 and mb_used == 0')"
   ]
  },
  {
   "cell_type": "code",
   "execution_count": 5,
   "metadata": {},
   "outputs": [
    {
     "data": {
      "image/png": "[encoded data removed]",
      "text/plain": [
       "<Figure size 432x288 with 2 Axes>"
      ]
     },
     "metadata": {
      "needs_background": "light"
     },
     "output_type": "display_data"
    }
   ],
   "source": [
    "sns.heatmap(users.corr());"
   ]
  },
  {
   "cell_type": "code",
   "execution_count": 6,
   "metadata": {},
   "outputs": [
    {
     "data": {
      "image/png": "[encoded data removed]",
      "text/plain": [
       "<Figure size 1080x648 with 25 Axes>"
      ]
     },
     "metadata": {
      "needs_background": "light"
     },
     "output_type": "display_data"
    }
   ],
   "source": [
    "pd.plotting.scatter_matrix(users, figsize=(15, 9));"
   ]
  },
  {
   "cell_type": "markdown",
   "metadata": {},
   "source": [
    "Мы видим, что 2 признака - calls и minutes имеют большой коэф. корреляции. Было бы логично оставить один признак из двух, например <b>minutes.</b>\n",
    "\n",
    "Остальные признаки имеют коэф. корреляции ниже 0.5"
   ]
  },
  {
   "cell_type": "markdown",
   "metadata": {},
   "source": [
    "## Разделение данных на выборки"
   ]
  },
  {
   "cell_type": "code",
   "execution_count": 7,
   "metadata": {},
   "outputs": [],
   "source": [
    "features = users.drop(['is_ultra', 'calls'], axis=1)\n",
    "target = users['is_ultra']\n",
    "\n",
    "features_train, features_remain, target_train, target_remain = train_test_split(\n",
    "    features, target, train_size=0.6, random_state=123, stratify=target\n",
    ")"
   ]
  },
  {
   "cell_type": "code",
   "execution_count": 8,
   "metadata": {},
   "outputs": [],
   "source": [
    "features_valid, features_test, target_valid, target_test = train_test_split(\n",
    "    features_remain, target_remain, train_size=0.5, random_state=123, stratify=target_remain\n",
    ")"
   ]
  },
  {
   "cell_type": "markdown",
   "metadata": {},
   "source": [
    "Мы разделили данные на:\n",
    "\n",
    " - Обучающую выборку: features_train, target_train - 60%\n",
    " \n",
    " - Валидационную выборку: features_valid, target_valid - 20%\n",
    " \n",
    " - Тестовую выборку: features_test, target_test - 20%"
   ]
  },
  {
   "cell_type": "markdown",
   "metadata": {},
   "source": [
    "## Исследование моделей"
   ]
  },
  {
   "cell_type": "markdown",
   "metadata": {},
   "source": [
    "В первую очередь необходимо определить, что перед нами стоит задача <b>классификации.</b>"
   ]
  },
  {
   "cell_type": "markdown",
   "metadata": {},
   "source": [
    "### DesicionTree"
   ]
  },
  {
   "cell_type": "markdown",
   "metadata": {},
   "source": [
    "Начнем с исследования модели DesicionTree, меняя ее гиперпараметр - max_depth от 1 до 10."
   ]
  },
  {
   "cell_type": "code",
   "execution_count": 9,
   "metadata": {},
   "outputs": [
    {
     "name": "stdout",
     "output_type": "stream",
     "text": [
      "Accuracy лучшей модели: 0.7947122861586314\n",
      "С глубиной дерева: 3\n"
     ]
    }
   ],
   "source": [
    "best_model = None\n",
    "best_result = 0\n",
    "for depth in range(1, 11):\n",
    "    model = DecisionTreeClassifier(random_state=123, max_depth=depth)\n",
    "    model.fit(features_train, target_train)\n",
    "    predictions = model.predict(features_valid)\n",
    "    result = accuracy_score(target_valid, predictions)\n",
    "    if result > best_result:\n",
    "        best_model_des_tree = model\n",
    "        best_result = result\n",
    "        best_depth = depth\n",
    "\n",
    "accuracy_des_tree = best_result\n",
    "print(\"Accuracy лучшей модели:\", best_result)\n",
    "print(\"С глубиной дерева:\", best_depth)"
   ]
  },
  {
   "cell_type": "markdown",
   "metadata": {},
   "source": [
    "Наилучшим решающим деревом оказалось дерево с глубиной 3, ее точность составила 0.79."
   ]
  },
  {
   "cell_type": "markdown",
   "metadata": {},
   "source": [
    "### RandomForest"
   ]
  },
  {
   "cell_type": "markdown",
   "metadata": {},
   "source": [
    "Теперь исследуем модель RandomForest, меняя ее гиперпараметры: n_estimators и max_depth."
   ]
  },
  {
   "cell_type": "code",
   "execution_count": 10,
   "metadata": {},
   "outputs": [
    {
     "name": "stdout",
     "output_type": "stream",
     "text": [
      "Accuracy наилучшей модели на валидационной выборке:\n",
      "0.8118195956454122\n",
      "Количество деревьев:\n",
      "10\n",
      "Максимальная глубина:\n",
      "10\n",
      "Минимальное число объектов:\n",
      "5\n",
      "Минимальное число объектов в листьях\n",
      "2\n"
     ]
    }
   ],
   "source": [
    "for est in range(10, 51, 10):\n",
    "    for depth in range (6, 11):\n",
    "        for split in range(4, 7):\n",
    "            for leaf in range(2, 6):\n",
    "                model = RandomForestClassifier(random_state=123, n_estimators=est, max_depth=depth,\n",
    "                                              min_samples_split=split, min_samples_leaf=leaf)\n",
    "                model.fit(features_train, target_train)\n",
    "                predictions_valid = model.predict(features_valid)\n",
    "                result = accuracy_score(target_valid, predictions_valid)\n",
    "                if result > best_result:\n",
    "                    best_model_rand_forest = model\n",
    "                    best_result = result\n",
    "                    best_est = est\n",
    "                    best_depth = depth\n",
    "                    best_min_samples_split = split\n",
    "                    best_min_samples_leaf = leaf\n",
    "\n",
    "accuracy_rand_forest = best_result\n",
    "print(\"Accuracy наилучшей модели на валидационной выборке:\", best_result, \"Количество деревьев:\", best_est, \"Максимальная глубина:\", depth,\n",
    "      \"Минимальное число объектов:\", best_min_samples_split, \"Минимальное число объектов в листьях\", best_min_samples_leaf, sep='\\n')"
   ]
  },
  {
   "cell_type": "markdown",
   "metadata": {},
   "source": [
    "Лучшая модель Случайного Леса показала результат лучше: точность 0.81 при количестве деревьев = 10, с максимальной глубиной = 10, минимальным числом объектов = 5 и минимальным числом объектов в листьях = 2"
   ]
  },
  {
   "cell_type": "markdown",
   "metadata": {},
   "source": [
    "### LogisticRegression"
   ]
  },
  {
   "cell_type": "markdown",
   "metadata": {},
   "source": [
    "Также исследуем модель Логистической Регрессии."
   ]
  },
  {
   "cell_type": "code",
   "execution_count": 11,
   "metadata": {},
   "outputs": [
    {
     "name": "stdout",
     "output_type": "stream",
     "text": [
      "Accuracy модели логистической регрессии на валидационной выборке: 0.6967340590979783\n"
     ]
    }
   ],
   "source": [
    "model = LogisticRegression(random_state=123)\n",
    "model.fit(features_train, target_train)\n",
    "predictions = model.predict(features_valid)\n",
    "result = accuracy_score(target_valid, predictions)\n",
    "best_model_log_reg = model\n",
    "\n",
    "accuracy_log_reg = result\n",
    "print(\"Accuracy модели логистической регрессии на валидационной выборке:\", result)"
   ]
  },
  {
   "cell_type": "markdown",
   "metadata": {},
   "source": [
    "Логистическая регрессия не показала высокой точности."
   ]
  },
  {
   "cell_type": "markdown",
   "metadata": {},
   "source": [
    "<b>Вывод:</b> наилучший результат на валидационной выборке показала модель Случайного Леса, ее и будем проверять на тестовой выборке."
   ]
  },
  {
   "cell_type": "markdown",
   "metadata": {},
   "source": [
    "## Проверьте модель на тестовой выборке"
   ]
  },
  {
   "cell_type": "code",
   "execution_count": 12,
   "metadata": {},
   "outputs": [
    {
     "name": "stdout",
     "output_type": "stream",
     "text": [
      "Accuracy модели RandomForest на обучающей выборке: 0.8495850622406639\n",
      "Accuracy модели RandomForest на валидационной выборке: 0.8118195956454122\n",
      "Accuracy модели RandomForest на обучающей + валидационной выборке: 0.852975495915986\n",
      "Accuracy модели RandomForest на тестовой выборке: 0.8258164852255054\n"
     ]
    }
   ],
   "source": [
    "features_train_valid = features_train.append(features_valid)\n",
    "target_train_valid = target_train.append(target_valid)\n",
    "\n",
    "predictions_train = best_model_rand_forest.predict(features_train)\n",
    "predictions_valid = best_model_rand_forest.predict(features_valid)\n",
    "predictions_test = best_model_rand_forest.predict(features_test)\n",
    "print(\"Accuracy модели RandomForest на обучающей выборке:\", accuracy_score(target_train, predictions_train))\n",
    "print(\"Accuracy модели RandomForest на валидационной выборке:\", accuracy_score(target_valid, predictions_valid))\n",
    "best_model_rand_forest.fit(features_train_valid, target_train_valid)\n",
    "predictions_train_valid = best_model_rand_forest.predict(features_train_valid)\n",
    "print(\"Accuracy модели RandomForest на обучающей + валидационной выборке:\", accuracy_score(target_train_valid, predictions_train_valid))\n",
    "print(\"Accuracy модели RandomForest на тестовой выборке:\", accuracy_score(target_test, predictions_test))"
   ]
  },
  {
   "cell_type": "markdown",
   "metadata": {},
   "source": [
    "## Проверка моделей на адекватность"
   ]
  },
  {
   "cell_type": "code",
   "execution_count": 14,
   "metadata": {},
   "outputs": [
    {
     "name": "stdout",
     "output_type": "stream",
     "text": [
      "Accuracy простейшей модели:  0.6936236391912908\n"
     ]
    }
   ],
   "source": [
    "from sklearn.dummy import DummyClassifier\n",
    "dummy_model = DummyClassifier(random_state=123, strategy='most_frequent')\n",
    "dummy_model.fit(features_train_valid, target_train_valid)\n",
    "dummy_predictions = dummy_model.predict(features_test)\n",
    "print('Accuracy простейшей модели: ', accuracy_score(target_test, dummy_predictions))"
   ]
  },
  {
   "cell_type": "code",
   "execution_count": 15,
   "metadata": {},
   "outputs": [
    {
     "data": {
      "text/plain": [
       "0    0.693528\n",
       "1    0.306472\n",
       "Name: is_ultra, dtype: float64"
      ]
     },
     "execution_count": 15,
     "metadata": {},
     "output_type": "execute_result"
    }
   ],
   "source": [
    "users['is_ultra'].value_counts(normalize=True)"
   ]
  },
  {
   "cell_type": "markdown",
   "metadata": {},
   "source": [
    "Если представить себе самую примитивную модель, которая всем записям присваивает 0 (нулевой класс), то точность такой модели будет около 70%, так как в датасете в действительности 0 (нулевых классов) именно 70%."
   ]
  },
  {
   "cell_type": "markdown",
   "metadata": {},
   "source": [
    "В сравнении с простейшей моделью (точность: 0.56) и с примитивной (точность: 0.7), точность модели RandomForest составляет 0.825, что превосходит показатели простейших модолей. Соответственно, модель - вменяема."
   ]
  },
  {
   "cell_type": "markdown",
   "metadata": {},
   "source": [
    "## Вывод"
   ]
  },
  {
   "cell_type": "markdown",
   "metadata": {},
   "source": [
    "Данные были разделены на:\n",
    "\n",
    "- Обучающую выборку: features_train, target_train - 60%\n",
    "- Валидационную выборку: features_valid, target_valid - 20%\n",
    "- Тестовую выборку: features_test, target_test - 20%\n",
    "\n",
    "\n",
    "---------------------------------------------------------\n",
    "\n",
    "\n",
    "Наилучший результат на валидационной выборке показала модель Случайного Леса. \n",
    "\n",
    "\n",
    "Точность: 0.81\n",
    "\n",
    "\n",
    "Количество деревьев: 10\n",
    "\n",
    "\n",
    "Максимальная глубина: 10\n",
    "\n",
    "\n",
    "Минимальное число объектов: 5\n",
    "\n",
    "\n",
    "Минимальное число объектов в листьях: 2\n",
    "\n",
    "------------------------------------------------------------\n",
    "\n",
    "<b>Метрика Accuracy модели RandomForest на тестовой выборке: 0.825</b>"
   ]
  }
 ],
 "metadata": {
  "ExecuteTimeLog": [
   {
    "duration": 591,
    "start_time": "2021-08-17T06:09:13.398Z"
   },
   {
    "duration": 27,
    "start_time": "2021-08-17T06:09:28.677Z"
   },
   {
    "duration": 490,
    "start_time": "2021-08-17T06:12:31.019Z"
   },
   {
    "duration": 21,
    "start_time": "2021-08-17T06:12:38.790Z"
   },
   {
    "duration": 8,
    "start_time": "2021-08-17T06:12:43.208Z"
   },
   {
    "duration": 8,
    "start_time": "2021-08-17T06:12:45.710Z"
   },
   {
    "duration": 9,
    "start_time": "2021-08-17T06:13:02.416Z"
   },
   {
    "duration": 8,
    "start_time": "2021-08-17T06:13:05.967Z"
   },
   {
    "duration": 264,
    "start_time": "2021-08-17T06:13:15.865Z"
   },
   {
    "duration": 8,
    "start_time": "2021-08-17T06:13:25.697Z"
   },
   {
    "duration": 10,
    "start_time": "2021-08-17T06:13:30.764Z"
   },
   {
    "duration": 7,
    "start_time": "2021-08-17T06:13:39.918Z"
   },
   {
    "duration": 180,
    "start_time": "2021-08-17T06:14:51.824Z"
   },
   {
    "duration": 10,
    "start_time": "2021-08-17T06:15:06.217Z"
   },
   {
    "duration": 25,
    "start_time": "2021-08-17T06:15:19.397Z"
   },
   {
    "duration": 23,
    "start_time": "2021-08-17T06:15:30.819Z"
   },
   {
    "duration": 15,
    "start_time": "2021-08-17T06:15:40.958Z"
   },
   {
    "duration": 11,
    "start_time": "2021-08-17T06:16:24.627Z"
   },
   {
    "duration": 8,
    "start_time": "2021-08-17T06:16:33.825Z"
   },
   {
    "duration": 9,
    "start_time": "2021-08-17T06:16:58.075Z"
   },
   {
    "duration": 13,
    "start_time": "2021-08-17T06:17:02.162Z"
   },
   {
    "duration": 12,
    "start_time": "2021-08-17T06:18:28.194Z"
   },
   {
    "duration": 11,
    "start_time": "2021-08-17T06:18:54.470Z"
   },
   {
    "duration": 6,
    "start_time": "2021-08-17T06:21:50.596Z"
   },
   {
    "duration": 192,
    "start_time": "2021-08-17T06:22:53.589Z"
   },
   {
    "duration": 7,
    "start_time": "2021-08-17T06:23:06.643Z"
   },
   {
    "duration": 200,
    "start_time": "2021-08-17T06:23:07.089Z"
   },
   {
    "duration": 178,
    "start_time": "2021-08-17T06:23:11.136Z"
   },
   {
    "duration": 6,
    "start_time": "2021-08-17T06:23:51.984Z"
   },
   {
    "duration": 4,
    "start_time": "2021-08-17T06:23:53.889Z"
   },
   {
    "duration": 7,
    "start_time": "2021-08-17T06:27:09.307Z"
   },
   {
    "duration": 6,
    "start_time": "2021-08-17T06:27:10.121Z"
   },
   {
    "duration": 21,
    "start_time": "2021-08-17T06:28:02.332Z"
   },
   {
    "duration": 7,
    "start_time": "2021-08-17T06:28:02.771Z"
   },
   {
    "duration": 22,
    "start_time": "2021-08-17T06:28:03.524Z"
   },
   {
    "duration": 9,
    "start_time": "2021-08-17T06:28:04.303Z"
   },
   {
    "duration": 7,
    "start_time": "2021-08-17T06:28:05.067Z"
   },
   {
    "duration": 5,
    "start_time": "2021-08-17T06:28:05.651Z"
   },
   {
    "duration": 171,
    "start_time": "2021-08-17T06:28:53.597Z"
   },
   {
    "duration": 48,
    "start_time": "2021-08-17T06:29:06.066Z"
   },
   {
    "duration": 7,
    "start_time": "2021-08-17T06:29:06.276Z"
   },
   {
    "duration": 25,
    "start_time": "2021-08-17T06:29:06.615Z"
   },
   {
    "duration": 11,
    "start_time": "2021-08-17T06:29:06.929Z"
   },
   {
    "duration": 7,
    "start_time": "2021-08-17T06:29:07.258Z"
   },
   {
    "duration": 5,
    "start_time": "2021-08-17T06:29:07.418Z"
   },
   {
    "duration": 196,
    "start_time": "2021-08-17T06:29:08.767Z"
   },
   {
    "duration": 5,
    "start_time": "2021-08-17T06:29:47.382Z"
   },
   {
    "duration": 10,
    "start_time": "2021-08-17T06:30:00.457Z"
   },
   {
    "duration": 12,
    "start_time": "2021-08-17T06:30:04.805Z"
   },
   {
    "duration": 5,
    "start_time": "2021-08-17T06:30:15.698Z"
   },
   {
    "duration": 5,
    "start_time": "2021-08-17T06:30:27.935Z"
   },
   {
    "duration": 8,
    "start_time": "2021-08-17T06:30:32.679Z"
   },
   {
    "duration": 5,
    "start_time": "2021-08-17T06:30:33.133Z"
   },
   {
    "duration": 24,
    "start_time": "2021-08-17T06:30:37.180Z"
   },
   {
    "duration": 47,
    "start_time": "2021-08-17T06:30:48.035Z"
   },
   {
    "duration": 24,
    "start_time": "2021-08-17T06:30:52.433Z"
   },
   {
    "duration": 61,
    "start_time": "2021-08-17T06:30:55.523Z"
   },
   {
    "duration": 56,
    "start_time": "2021-08-17T06:31:09.745Z"
   },
   {
    "duration": 21,
    "start_time": "2021-08-17T06:32:01.917Z"
   },
   {
    "duration": 7,
    "start_time": "2021-08-17T06:32:02.092Z"
   },
   {
    "duration": 21,
    "start_time": "2021-08-17T06:32:02.478Z"
   },
   {
    "duration": 11,
    "start_time": "2021-08-17T06:32:02.861Z"
   },
   {
    "duration": 7,
    "start_time": "2021-08-17T06:32:03.386Z"
   },
   {
    "duration": 5,
    "start_time": "2021-08-17T06:32:03.835Z"
   },
   {
    "duration": 56,
    "start_time": "2021-08-17T06:33:10.670Z"
   },
   {
    "duration": 100,
    "start_time": "2021-08-17T06:33:23.810Z"
   },
   {
    "duration": 56,
    "start_time": "2021-08-17T06:33:47.834Z"
   },
   {
    "duration": 52,
    "start_time": "2021-08-17T06:33:51.450Z"
   },
   {
    "duration": 20,
    "start_time": "2021-08-17T06:33:55.980Z"
   },
   {
    "duration": 6,
    "start_time": "2021-08-17T06:33:56.523Z"
   },
   {
    "duration": 23,
    "start_time": "2021-08-17T06:33:56.840Z"
   },
   {
    "duration": 10,
    "start_time": "2021-08-17T06:33:57.151Z"
   },
   {
    "duration": 7,
    "start_time": "2021-08-17T06:33:57.546Z"
   },
   {
    "duration": 6,
    "start_time": "2021-08-17T06:33:57.755Z"
   },
   {
    "duration": 54,
    "start_time": "2021-08-17T06:33:58.963Z"
   },
   {
    "duration": 58,
    "start_time": "2021-08-17T06:34:34.812Z"
   },
   {
    "duration": 55,
    "start_time": "2021-08-17T06:35:28.494Z"
   },
   {
    "duration": 28,
    "start_time": "2021-08-17T06:36:48.462Z"
   },
   {
    "duration": 7,
    "start_time": "2021-08-17T06:36:49.466Z"
   },
   {
    "duration": 23,
    "start_time": "2021-08-17T06:36:49.781Z"
   },
   {
    "duration": 11,
    "start_time": "2021-08-17T06:36:50.079Z"
   },
   {
    "duration": 7,
    "start_time": "2021-08-17T06:36:50.410Z"
   },
   {
    "duration": 5,
    "start_time": "2021-08-17T06:36:50.569Z"
   },
   {
    "duration": 55,
    "start_time": "2021-08-17T06:36:51.877Z"
   },
   {
    "duration": 195,
    "start_time": "2021-08-17T06:40:58.286Z"
   },
   {
    "duration": 3292,
    "start_time": "2021-08-17T06:41:16.958Z"
   },
   {
    "duration": 3318,
    "start_time": "2021-08-17T06:41:46.354Z"
   },
   {
    "duration": 3283,
    "start_time": "2021-08-17T06:42:02.817Z"
   },
   {
    "duration": 58,
    "start_time": "2021-08-17T06:43:33.514Z"
   },
   {
    "duration": 3330,
    "start_time": "2021-08-17T06:43:41.045Z"
   },
   {
    "duration": 21,
    "start_time": "2021-08-17T06:44:50.056Z"
   },
   {
    "duration": 6,
    "start_time": "2021-08-17T06:44:50.381Z"
   },
   {
    "duration": 23,
    "start_time": "2021-08-17T06:44:50.723Z"
   },
   {
    "duration": 12,
    "start_time": "2021-08-17T06:44:51.079Z"
   },
   {
    "duration": 7,
    "start_time": "2021-08-17T06:44:51.454Z"
   },
   {
    "duration": 5,
    "start_time": "2021-08-17T06:44:51.649Z"
   },
   {
    "duration": 70,
    "start_time": "2021-08-17T06:44:52.793Z"
   },
   {
    "duration": 3391,
    "start_time": "2021-08-17T06:44:53.740Z"
   },
   {
    "duration": 3426,
    "start_time": "2021-08-17T06:46:09.381Z"
   },
   {
    "duration": 12,
    "start_time": "2021-08-17T06:46:54.629Z"
   },
   {
    "duration": 203,
    "start_time": "2021-08-17T06:47:09.858Z"
   },
   {
    "duration": 10,
    "start_time": "2021-08-17T06:47:48.400Z"
   },
   {
    "duration": 20,
    "start_time": "2021-08-17T06:48:33.567Z"
   },
   {
    "duration": 7,
    "start_time": "2021-08-17T06:48:33.956Z"
   },
   {
    "duration": 24,
    "start_time": "2021-08-17T06:48:34.303Z"
   },
   {
    "duration": 10,
    "start_time": "2021-08-17T06:48:34.644Z"
   },
   {
    "duration": 6,
    "start_time": "2021-08-17T06:48:34.989Z"
   },
   {
    "duration": 5,
    "start_time": "2021-08-17T06:48:35.158Z"
   },
   {
    "duration": 55,
    "start_time": "2021-08-17T06:48:36.043Z"
   },
   {
    "duration": 3350,
    "start_time": "2021-08-17T06:48:36.801Z"
   },
   {
    "duration": 10,
    "start_time": "2021-08-17T06:48:40.153Z"
   },
   {
    "duration": 10,
    "start_time": "2021-08-17T06:48:43.585Z"
   },
   {
    "duration": 10,
    "start_time": "2021-08-17T06:49:08.415Z"
   },
   {
    "duration": 178,
    "start_time": "2021-08-17T06:51:01.878Z"
   },
   {
    "duration": 193,
    "start_time": "2021-08-17T06:51:09.030Z"
   },
   {
    "duration": 21,
    "start_time": "2021-08-17T06:51:23.834Z"
   },
   {
    "duration": 7,
    "start_time": "2021-08-17T06:51:24.017Z"
   },
   {
    "duration": 25,
    "start_time": "2021-08-17T06:51:24.380Z"
   },
   {
    "duration": 10,
    "start_time": "2021-08-17T06:51:24.710Z"
   },
   {
    "duration": 7,
    "start_time": "2021-08-17T06:51:25.068Z"
   },
   {
    "duration": 5,
    "start_time": "2021-08-17T06:51:25.250Z"
   },
   {
    "duration": 57,
    "start_time": "2021-08-17T06:51:26.189Z"
   },
   {
    "duration": 3330,
    "start_time": "2021-08-17T06:51:27.078Z"
   },
   {
    "duration": 9,
    "start_time": "2021-08-17T06:51:30.410Z"
   },
   {
    "duration": 199,
    "start_time": "2021-08-17T06:51:30.421Z"
   },
   {
    "duration": 200,
    "start_time": "2021-08-17T06:52:03.134Z"
   },
   {
    "duration": 196,
    "start_time": "2021-08-17T06:52:23.828Z"
   },
   {
    "duration": 11,
    "start_time": "2021-08-17T06:52:44.680Z"
   },
   {
    "duration": 9,
    "start_time": "2021-08-17T06:52:50.846Z"
   },
   {
    "duration": 6,
    "start_time": "2021-08-17T06:55:11.809Z"
   },
   {
    "duration": 11,
    "start_time": "2021-08-17T06:56:34.385Z"
   },
   {
    "duration": 11,
    "start_time": "2021-08-17T06:57:10.210Z"
   },
   {
    "duration": 28,
    "start_time": "2021-08-17T06:58:41.135Z"
   },
   {
    "duration": 27,
    "start_time": "2021-08-17T06:59:08.148Z"
   },
   {
    "duration": 28,
    "start_time": "2021-08-17T06:59:11.443Z"
   },
   {
    "duration": 172,
    "start_time": "2021-08-17T06:59:18.569Z"
   },
   {
    "duration": 29,
    "start_time": "2021-08-17T06:59:23.260Z"
   },
   {
    "duration": 3275,
    "start_time": "2021-08-17T07:02:34.411Z"
   },
   {
    "duration": 10,
    "start_time": "2021-08-17T07:02:59.759Z"
   },
   {
    "duration": 29,
    "start_time": "2021-08-17T07:03:54.138Z"
   },
   {
    "duration": 9783,
    "start_time": "2021-08-17T11:24:55.535Z"
   },
   {
    "duration": 11990,
    "start_time": "2021-08-17T11:25:12.442Z"
   },
   {
    "duration": 3365,
    "start_time": "2021-08-17T11:25:32.081Z"
   },
   {
    "duration": 20,
    "start_time": "2021-08-17T11:25:48.370Z"
   },
   {
    "duration": 7,
    "start_time": "2021-08-17T11:25:48.779Z"
   },
   {
    "duration": 23,
    "start_time": "2021-08-17T11:25:49.433Z"
   },
   {
    "duration": 11,
    "start_time": "2021-08-17T11:25:50.066Z"
   },
   {
    "duration": 7,
    "start_time": "2021-08-17T11:25:50.741Z"
   },
   {
    "duration": 6,
    "start_time": "2021-08-17T11:25:51.149Z"
   },
   {
    "duration": 58,
    "start_time": "2021-08-17T11:25:53.335Z"
   },
   {
    "duration": 3280,
    "start_time": "2021-08-17T11:25:56.064Z"
   },
   {
    "duration": 210,
    "start_time": "2021-08-17T11:26:50.041Z"
   },
   {
    "duration": 181,
    "start_time": "2021-08-17T11:27:16.356Z"
   },
   {
    "duration": 107417,
    "start_time": "2021-08-17T11:27:28.573Z"
   },
   {
    "duration": 19957,
    "start_time": "2021-08-17T11:29:31.519Z"
   },
   {
    "duration": 119234,
    "start_time": "2021-08-17T11:31:37.850Z"
   },
   {
    "duration": 35184,
    "start_time": "2021-08-17T11:36:06.031Z"
   },
   {
    "duration": 35278,
    "start_time": "2021-08-17T11:37:14.298Z"
   },
   {
    "duration": 21,
    "start_time": "2021-08-17T11:38:17.254Z"
   },
   {
    "duration": 7,
    "start_time": "2021-08-17T11:38:17.458Z"
   },
   {
    "duration": 24,
    "start_time": "2021-08-17T11:38:17.863Z"
   },
   {
    "duration": 12,
    "start_time": "2021-08-17T11:38:18.282Z"
   },
   {
    "duration": 6,
    "start_time": "2021-08-17T11:38:18.691Z"
   },
   {
    "duration": 6,
    "start_time": "2021-08-17T11:38:18.934Z"
   },
   {
    "duration": 59,
    "start_time": "2021-08-17T11:38:20.324Z"
   },
   {
    "duration": 35032,
    "start_time": "2021-08-17T11:38:21.721Z"
   },
   {
    "duration": 10,
    "start_time": "2021-08-17T11:39:13.673Z"
   },
   {
    "duration": 25,
    "start_time": "2021-08-17T11:39:16.938Z"
   },
   {
    "duration": 35036,
    "start_time": "2021-08-17T11:39:29.880Z"
   },
   {
    "duration": 9,
    "start_time": "2021-08-17T11:40:29.591Z"
   },
   {
    "duration": 26,
    "start_time": "2021-08-17T11:40:30.677Z"
   },
   {
    "duration": 92,
    "start_time": "2021-08-17T11:50:38.439Z"
   },
   {
    "duration": 96,
    "start_time": "2021-08-17T11:50:45.964Z"
   },
   {
    "duration": 94,
    "start_time": "2021-08-17T11:50:58.447Z"
   },
   {
    "duration": 93,
    "start_time": "2021-08-17T11:51:01.466Z"
   },
   {
    "duration": 88,
    "start_time": "2021-08-17T11:51:05.271Z"
   },
   {
    "duration": 97,
    "start_time": "2021-08-17T11:51:07.878Z"
   },
   {
    "duration": 98,
    "start_time": "2021-08-17T11:51:09.933Z"
   },
   {
    "duration": 89,
    "start_time": "2021-08-17T11:51:11.585Z"
   },
   {
    "duration": 88,
    "start_time": "2021-08-17T11:51:13.580Z"
   },
   {
    "duration": 89,
    "start_time": "2021-08-17T11:51:34.255Z"
   },
   {
    "duration": 101,
    "start_time": "2021-08-17T11:51:36.721Z"
   },
   {
    "duration": 89,
    "start_time": "2021-08-17T11:51:38.973Z"
   },
   {
    "duration": 88,
    "start_time": "2021-08-17T11:51:39.842Z"
   },
   {
    "duration": 89,
    "start_time": "2021-08-17T11:51:40.836Z"
   },
   {
    "duration": 94,
    "start_time": "2021-08-17T11:51:41.738Z"
   },
   {
    "duration": 100,
    "start_time": "2021-08-17T11:51:42.610Z"
   },
   {
    "duration": 93,
    "start_time": "2021-08-17T11:51:47.989Z"
   },
   {
    "duration": 93,
    "start_time": "2021-08-17T11:51:49.161Z"
   },
   {
    "duration": 91,
    "start_time": "2021-08-17T11:51:50.051Z"
   },
   {
    "duration": 92,
    "start_time": "2021-08-17T11:51:50.938Z"
   },
   {
    "duration": 93,
    "start_time": "2021-08-17T11:51:51.903Z"
   },
   {
    "duration": 92,
    "start_time": "2021-08-17T11:51:53.988Z"
   },
   {
    "duration": 95,
    "start_time": "2021-08-17T11:51:55.344Z"
   },
   {
    "duration": 95,
    "start_time": "2021-08-17T11:51:56.264Z"
   },
   {
    "duration": 97,
    "start_time": "2021-08-17T11:51:57.120Z"
   },
   {
    "duration": 95,
    "start_time": "2021-08-17T11:51:57.851Z"
   },
   {
    "duration": 95,
    "start_time": "2021-08-17T11:51:58.873Z"
   },
   {
    "duration": 92,
    "start_time": "2021-08-17T11:51:59.658Z"
   },
   {
    "duration": 96,
    "start_time": "2021-08-17T11:52:00.390Z"
   },
   {
    "duration": 90,
    "start_time": "2021-08-17T11:52:09.270Z"
   },
   {
    "duration": 92,
    "start_time": "2021-08-17T11:52:11.284Z"
   },
   {
    "duration": 95,
    "start_time": "2021-08-17T11:52:12.792Z"
   },
   {
    "duration": 94,
    "start_time": "2021-08-17T11:52:15.584Z"
   },
   {
    "duration": 94,
    "start_time": "2021-08-17T11:52:16.744Z"
   },
   {
    "duration": 102,
    "start_time": "2021-08-17T11:52:22.684Z"
   },
   {
    "duration": 90,
    "start_time": "2021-08-17T11:52:38.384Z"
   },
   {
    "duration": 93,
    "start_time": "2021-08-17T11:52:46.094Z"
   },
   {
    "duration": 95,
    "start_time": "2021-08-17T11:52:48.101Z"
   },
   {
    "duration": 92,
    "start_time": "2021-08-17T11:52:54.041Z"
   },
   {
    "duration": 1061,
    "start_time": "2021-08-17T12:04:51.876Z"
   },
   {
    "duration": 8,
    "start_time": "2021-08-17T12:04:54.671Z"
   },
   {
    "duration": 29,
    "start_time": "2021-08-17T12:04:55.230Z"
   },
   {
    "duration": 11,
    "start_time": "2021-08-17T12:04:55.761Z"
   },
   {
    "duration": 7,
    "start_time": "2021-08-17T12:04:55.822Z"
   },
   {
    "duration": 6,
    "start_time": "2021-08-17T12:04:55.852Z"
   },
   {
    "duration": 267,
    "start_time": "2021-08-17T12:04:56.027Z"
   },
   {
    "duration": -312,
    "start_time": "2021-08-17T12:04:56.608Z"
   },
   {
    "duration": -341,
    "start_time": "2021-08-17T12:04:56.638Z"
   },
   {
    "duration": 182,
    "start_time": "2021-08-17T12:04:56.380Z"
   },
   {
    "duration": 1014,
    "start_time": "2021-08-17T12:05:42.925Z"
   },
   {
    "duration": 6,
    "start_time": "2021-08-17T12:05:43.941Z"
   },
   {
    "duration": 31,
    "start_time": "2021-08-17T12:05:43.949Z"
   },
   {
    "duration": 11,
    "start_time": "2021-08-17T12:05:43.982Z"
   },
   {
    "duration": 6,
    "start_time": "2021-08-17T12:05:43.995Z"
   },
   {
    "duration": 9,
    "start_time": "2021-08-17T12:05:44.002Z"
   },
   {
    "duration": 56,
    "start_time": "2021-08-17T12:05:44.012Z"
   },
   {
    "duration": 34357,
    "start_time": "2021-08-17T12:05:44.086Z"
   },
   {
    "duration": 9,
    "start_time": "2021-08-17T12:06:18.445Z"
   },
   {
    "duration": 40,
    "start_time": "2021-08-17T12:06:18.456Z"
   },
   {
    "duration": 1352,
    "start_time": "2021-08-17T17:12:51.085Z"
   },
   {
    "duration": 10,
    "start_time": "2021-08-17T17:12:52.440Z"
   },
   {
    "duration": 48,
    "start_time": "2021-08-17T17:12:52.454Z"
   },
   {
    "duration": 17,
    "start_time": "2021-08-17T17:12:52.505Z"
   },
   {
    "duration": 8,
    "start_time": "2021-08-17T17:12:52.525Z"
   },
   {
    "duration": 10,
    "start_time": "2021-08-17T17:12:52.536Z"
   },
   {
    "duration": 106,
    "start_time": "2021-08-17T17:12:52.548Z"
   },
   {
    "duration": 36116,
    "start_time": "2021-08-17T17:12:52.657Z"
   },
   {
    "duration": 19,
    "start_time": "2021-08-17T17:13:28.776Z"
   },
   {
    "duration": 37,
    "start_time": "2021-08-17T17:13:28.797Z"
   },
   {
    "duration": 135,
    "start_time": "2021-08-17T20:58:59.731Z"
   },
   {
    "duration": 1335,
    "start_time": "2021-08-17T20:59:48.731Z"
   },
   {
    "duration": 9,
    "start_time": "2021-08-17T20:59:50.069Z"
   },
   {
    "duration": 47,
    "start_time": "2021-08-17T20:59:50.082Z"
   },
   {
    "duration": 16,
    "start_time": "2021-08-17T20:59:50.131Z"
   },
   {
    "duration": 14,
    "start_time": "2021-08-17T21:00:24.676Z"
   },
   {
    "duration": 653,
    "start_time": "2021-08-17T21:01:10.236Z"
   },
   {
    "duration": 441,
    "start_time": "2021-08-17T21:02:51.767Z"
   },
   {
    "duration": 104,
    "start_time": "2021-08-17T21:03:04.406Z"
   },
   {
    "duration": 9,
    "start_time": "2021-08-17T21:03:05.055Z"
   },
   {
    "duration": 35,
    "start_time": "2021-08-17T21:03:05.726Z"
   },
   {
    "duration": 15,
    "start_time": "2021-08-17T21:03:06.110Z"
   },
   {
    "duration": 400,
    "start_time": "2021-08-17T21:03:06.941Z"
   },
   {
    "duration": 712,
    "start_time": "2021-08-17T21:03:48.223Z"
   },
   {
    "duration": 734,
    "start_time": "2021-08-17T21:04:01.208Z"
   },
   {
    "duration": 2651,
    "start_time": "2021-08-17T21:04:08.271Z"
   },
   {
    "duration": 384,
    "start_time": "2021-08-17T21:04:26.160Z"
   },
   {
    "duration": 2274,
    "start_time": "2021-08-17T21:04:28.647Z"
   },
   {
    "duration": 2381,
    "start_time": "2021-08-17T21:04:53.376Z"
   },
   {
    "duration": 14,
    "start_time": "2021-08-17T21:04:58.680Z"
   },
   {
    "duration": 7,
    "start_time": "2021-08-17T21:05:19.377Z"
   },
   {
    "duration": 2512,
    "start_time": "2021-08-17T21:05:58.401Z"
   },
   {
    "duration": 4135,
    "start_time": "2021-08-17T21:06:25.978Z"
   },
   {
    "duration": 4484,
    "start_time": "2021-08-17T21:07:05.930Z"
   },
   {
    "duration": 7,
    "start_time": "2021-08-17T21:08:59.117Z"
   },
   {
    "duration": 385,
    "start_time": "2021-08-17T21:09:29.895Z"
   },
   {
    "duration": 4338,
    "start_time": "2021-08-17T21:10:45.494Z"
   },
   {
    "duration": 388,
    "start_time": "2021-08-17T21:12:23.592Z"
   },
   {
    "duration": 9,
    "start_time": "2021-08-17T21:12:41.576Z"
   },
   {
    "duration": 365,
    "start_time": "2021-08-17T21:14:45.738Z"
   },
   {
    "duration": 4229,
    "start_time": "2021-08-17T21:14:46.106Z"
   },
   {
    "duration": 9,
    "start_time": "2021-08-17T21:14:57.050Z"
   },
   {
    "duration": 8,
    "start_time": "2021-08-17T21:14:58.002Z"
   },
   {
    "duration": 11,
    "start_time": "2021-08-17T21:15:43.731Z"
   },
   {
    "duration": 10,
    "start_time": "2021-08-17T21:15:57.580Z"
   },
   {
    "duration": 75,
    "start_time": "2021-08-17T21:16:32.572Z"
   },
   {
    "duration": 28166,
    "start_time": "2021-08-17T21:16:57.637Z"
   },
   {
    "duration": 19,
    "start_time": "2021-08-17T21:21:03.921Z"
   },
   {
    "duration": 26,
    "start_time": "2021-08-17T21:22:41.339Z"
   },
   {
    "duration": 432,
    "start_time": "2021-08-17T21:23:32.356Z"
   },
   {
    "duration": 412,
    "start_time": "2021-08-17T21:23:57.893Z"
   },
   {
    "duration": 27,
    "start_time": "2021-08-17T21:24:04.220Z"
   },
   {
    "duration": 33,
    "start_time": "2021-08-17T21:24:10.636Z"
   },
   {
    "duration": 392,
    "start_time": "2021-08-17T21:24:41.389Z"
   },
   {
    "duration": 426,
    "start_time": "2021-08-17T21:27:31.200Z"
   },
   {
    "duration": 34,
    "start_time": "2021-08-17T21:28:59.386Z"
   },
   {
    "duration": 26,
    "start_time": "2021-08-17T21:30:34.964Z"
   },
   {
    "duration": 94,
    "start_time": "2021-08-17T21:30:55.723Z"
   },
   {
    "duration": 69,
    "start_time": "2021-08-17T21:32:00.861Z"
   },
   {
    "duration": 28046,
    "start_time": "2021-08-17T21:32:02.764Z"
   },
   {
    "duration": 17,
    "start_time": "2021-08-17T21:32:30.812Z"
   },
   {
    "duration": 60,
    "start_time": "2021-08-17T21:32:58.582Z"
   },
   {
    "duration": 121,
    "start_time": "2021-08-17T21:34:42.072Z"
   },
   {
    "duration": 71,
    "start_time": "2021-08-17T21:34:50.255Z"
   },
   {
    "duration": 27970,
    "start_time": "2021-08-17T21:34:50.983Z"
   },
   {
    "duration": 17,
    "start_time": "2021-08-17T21:35:18.956Z"
   },
   {
    "duration": 132,
    "start_time": "2021-08-17T21:35:18.976Z"
   },
   {
    "duration": 70,
    "start_time": "2021-08-17T21:37:05.058Z"
   },
   {
    "duration": 91,
    "start_time": "2021-08-17T21:37:12.139Z"
   },
   {
    "duration": 28050,
    "start_time": "2021-08-17T21:37:12.890Z"
   },
   {
    "duration": 17,
    "start_time": "2021-08-17T21:37:40.943Z"
   },
   {
    "duration": 96,
    "start_time": "2021-08-17T21:37:40.963Z"
   },
   {
    "duration": 70,
    "start_time": "2021-08-17T21:38:16.938Z"
   },
   {
    "duration": 28422,
    "start_time": "2021-08-17T21:38:19.418Z"
   },
   {
    "duration": 17,
    "start_time": "2021-08-17T21:38:47.842Z"
   },
   {
    "duration": 8,
    "start_time": "2021-08-17T21:43:22.392Z"
   },
   {
    "duration": 7,
    "start_time": "2021-08-17T21:43:33.688Z"
   },
   {
    "duration": 7,
    "start_time": "2021-08-17T21:43:36.872Z"
   },
   {
    "duration": 11,
    "start_time": "2021-08-17T21:43:41.393Z"
   },
   {
    "duration": 7,
    "start_time": "2021-08-17T21:43:52.681Z"
   },
   {
    "duration": 8,
    "start_time": "2021-08-17T21:47:51.437Z"
   },
   {
    "duration": 10,
    "start_time": "2021-08-17T21:48:06.309Z"
   },
   {
    "duration": 402,
    "start_time": "2021-08-17T21:48:11.565Z"
   },
   {
    "duration": 10,
    "start_time": "2021-08-17T21:48:20.462Z"
   },
   {
    "duration": 10,
    "start_time": "2021-08-17T21:48:41.005Z"
   },
   {
    "duration": 1592,
    "start_time": "2021-08-17T21:55:52.180Z"
   },
   {
    "duration": 13,
    "start_time": "2021-08-17T21:55:53.775Z"
   },
   {
    "duration": 39,
    "start_time": "2021-08-17T21:55:55.700Z"
   },
   {
    "duration": 20,
    "start_time": "2021-08-17T21:55:56.428Z"
   },
   {
    "duration": 395,
    "start_time": "2021-08-17T21:56:04.165Z"
   },
   {
    "duration": 7187,
    "start_time": "2021-08-17T21:56:05.117Z"
   },
   {
    "duration": 17,
    "start_time": "2021-08-17T21:56:13.421Z"
   },
   {
    "duration": 12,
    "start_time": "2021-08-17T21:56:14.117Z"
   },
   {
    "duration": 110,
    "start_time": "2021-08-17T21:56:19.765Z"
   },
   {
    "duration": 44466,
    "start_time": "2021-08-17T21:56:23.037Z"
   },
   {
    "duration": 21,
    "start_time": "2021-08-17T21:57:07.506Z"
   },
   {
    "duration": 68,
    "start_time": "2021-08-17T21:57:23.774Z"
   },
   {
    "duration": 7,
    "start_time": "2021-08-17T21:57:40.886Z"
   },
   {
    "duration": 12,
    "start_time": "2021-08-17T21:57:42.198Z"
   },
   {
    "duration": 1636,
    "start_time": "2021-08-18T15:11:00.014Z"
   },
   {
    "duration": 10,
    "start_time": "2021-08-18T15:11:01.652Z"
   },
   {
    "duration": 70,
    "start_time": "2021-08-18T15:11:01.665Z"
   },
   {
    "duration": 16,
    "start_time": "2021-08-18T15:11:01.738Z"
   },
   {
    "duration": 413,
    "start_time": "2021-08-18T15:11:01.757Z"
   },
   {
    "duration": 4863,
    "start_time": "2021-08-18T15:11:02.173Z"
   },
   {
    "duration": 13,
    "start_time": "2021-08-18T15:11:07.038Z"
   },
   {
    "duration": 56,
    "start_time": "2021-08-18T15:11:07.055Z"
   },
   {
    "duration": 98,
    "start_time": "2021-08-18T15:11:07.114Z"
   },
   {
    "duration": 30013,
    "start_time": "2021-08-18T15:11:07.215Z"
   },
   {
    "duration": 19,
    "start_time": "2021-08-18T15:11:37.231Z"
   },
   {
    "duration": 99,
    "start_time": "2021-08-18T15:11:37.253Z"
   },
   {
    "duration": 9,
    "start_time": "2021-08-18T15:11:37.354Z"
   },
   {
    "duration": 28,
    "start_time": "2021-08-18T15:11:37.365Z"
   },
   {
    "duration": 9,
    "start_time": "2021-08-18T15:12:04.634Z"
   }
  ],
  "kernelspec": {
   "display_name": "Python 3",
   "language": "python",
   "name": "python3"
  },
  "language_info": {
   "codemirror_mode": {
    "name": "ipython",
    "version": 3
   },
   "file_extension": ".py",
   "mimetype": "text/x-python",
   "name": "python",
   "nbconvert_exporter": "python",
   "pygments_lexer": "ipython3",
   "version": "3.7.6"
  },
  "toc": {
   "base_numbering": 1,
   "nav_menu": {
    "height": "226px",
    "width": "314px"
   },
   "number_sections": true,
   "sideBar": true,
   "skip_h1_title": true,
   "title_cell": "Table of Contents",
   "title_sidebar": "Contents",
   "toc_cell": false,
   "toc_position": {},
   "toc_section_display": true,
   "toc_window_display": false
  }
 },
 "nbformat": 4,
 "nbformat_minor": 2
}
